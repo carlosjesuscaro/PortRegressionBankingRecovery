{
 "cells": [
  {
   "metadata": {
    "dc": {
     "key": "4"
    },
    "deletable": false,
    "editable": false,
    "run_control": {
     "frozen": true
    },
    "tags": [
     "context"
    ]
   },
   "cell_type": "markdown",
   "source": [
    "## 1. Regression discontinuity: banking recovery\n",
    "<p>After a debt has been legally declared \"uncollectable\" by a bank, the account is considered \"charged-off.\" But that doesn't mean the bank <strong><em>walks away</em></strong> from the debt. They still want to collect some of the money they are owed. The bank will score the account to assess the expected recovery amount, that is, the expected amount that the bank may be able to receive from the customer in the future. This amount is a function of the probability of the customer paying, the total debt, and other factors that impact the ability and willingness to pay.</p>\n",
    "<p>The bank has implemented different recovery strategies at different thresholds (\\$1000, \\$2000, etc.) where the greater the expected recovery amount, the more effort the bank puts into contacting the customer. For low recovery amounts (Level 0), the bank just adds the customer's contact information to their automatic dialer and emailing system. For higher recovery strategies, the bank incurs more costs as they leverage human resources in more efforts to obtain payments. Each additional level of recovery strategy requires an additional \\$50 per customer so that customers in the Recovery Strategy Level 1 cost the company \\$50 more than those in Level 0. Customers in Level 2 cost \\$50 more than those in Level 1, etc. </p>\n",
    "<p><strong>The big question</strong>: does the extra amount that is recovered at the higher strategy level exceed the extra \\$50 in costs? In other words, was there a jump (also called a \"discontinuity\") of more than \\$50 in the amount recovered at the higher strategy level? We'll find out in this notebook.</p>\n",
    "<p>![Regression discontinuity graph](https://assets.datacamp.com/production/project_504/img/Regression Discontinuity graph.png)</p>\n",
    "<p>First, we'll load the banking dataset and look at the first few rows of data. This lets us understand the dataset itself and begin thinking about how to analyze the data.</p>"
   ]
  },
  {
   "metadata": {
    "dc": {
     "key": "4"
    },
    "tags": [
     "sample_code"
    ],
    "trusted": true
   },
   "cell_type": "code",
   "source": [
    "    \n",
    "# Import modules\n",
    "# ... YOUR CODE FOR TASK 1 ...\n",
    "import pandas as pd\n",
    "# ... YOUR CODE FOR TASK 1 ...\n",
    "import numpy as np\n",
    "\n",
    "# Read in dataset\n",
    "df = pd.read_csv(\"datasets/bank_data.csv\")\n",
    "\n",
    "# Print the first few rows of the DataFrame\n",
    "df.head()"
   ],
   "execution_count": 13,
   "outputs": [
    {
     "data": {
      "text/plain": "     id  expected_recovery_amount  actual_recovery_amount recovery_strategy  \\\n0  2030                       194                 263.540  Level 0 Recovery   \n1  1150                       486                 416.090  Level 0 Recovery   \n2   380                       527                 429.350  Level 0 Recovery   \n3  1838                       536                 296.990  Level 0 Recovery   \n4  1995                       541                 346.385  Level 0 Recovery   \n\n   age     sex  \n0   19    Male  \n1   25  Female  \n2   27    Male  \n3   25    Male  \n4   34    Male  ",
      "text/html": "<div>\n<style scoped>\n    .dataframe tbody tr th:only-of-type {\n        vertical-align: middle;\n    }\n\n    .dataframe tbody tr th {\n        vertical-align: top;\n    }\n\n    .dataframe thead th {\n        text-align: right;\n    }\n</style>\n<table border=\"1\" class=\"dataframe\">\n  <thead>\n    <tr style=\"text-align: right;\">\n      <th></th>\n      <th>id</th>\n      <th>expected_recovery_amount</th>\n      <th>actual_recovery_amount</th>\n      <th>recovery_strategy</th>\n      <th>age</th>\n      <th>sex</th>\n    </tr>\n  </thead>\n  <tbody>\n    <tr>\n      <th>0</th>\n      <td>2030</td>\n      <td>194</td>\n      <td>263.540</td>\n      <td>Level 0 Recovery</td>\n      <td>19</td>\n      <td>Male</td>\n    </tr>\n    <tr>\n      <th>1</th>\n      <td>1150</td>\n      <td>486</td>\n      <td>416.090</td>\n      <td>Level 0 Recovery</td>\n      <td>25</td>\n      <td>Female</td>\n    </tr>\n    <tr>\n      <th>2</th>\n      <td>380</td>\n      <td>527</td>\n      <td>429.350</td>\n      <td>Level 0 Recovery</td>\n      <td>27</td>\n      <td>Male</td>\n    </tr>\n    <tr>\n      <th>3</th>\n      <td>1838</td>\n      <td>536</td>\n      <td>296.990</td>\n      <td>Level 0 Recovery</td>\n      <td>25</td>\n      <td>Male</td>\n    </tr>\n    <tr>\n      <th>4</th>\n      <td>1995</td>\n      <td>541</td>\n      <td>346.385</td>\n      <td>Level 0 Recovery</td>\n      <td>34</td>\n      <td>Male</td>\n    </tr>\n  </tbody>\n</table>\n</div>"
     },
     "execution_count": 13,
     "metadata": {},
     "output_type": "execute_result"
    }
   ]
  },
  {
   "metadata": {
    "dc": {
     "key": "11"
    },
    "deletable": false,
    "editable": false,
    "run_control": {
     "frozen": true
    },
    "tags": [
     "context"
    ]
   },
   "cell_type": "markdown",
   "source": "## 2. Graphical exploratory data analysis\n<p>The bank has implemented different recovery strategies at different thresholds (\\$1000, \\$2000, \\$3000 and \\$5000) where the greater the Expected Recovery Amount, the more effort the bank puts into contacting the customer. Zeroing in on the first transition (between Level 0 and Level 1) means we are focused on the population with Expected Recovery Amounts between \\$0 and \\$2000 where the transition between Levels occurred at \\$1000. We know that the customers in Level 1 (expected recovery amounts between \\$1001 and \\$2000) received more attention from the bank and, by definition, they had higher Expected Recovery Amounts than the customers in Level 0 (between \\$1 and \\$1000).</p>\n<p>Here's a quick summary of the Levels and thresholds again:</p>\n<ul>\n<li>Level 0: Expected recovery amounts &gt;\\$0 and &lt;=\\$1000</li>\n<li>Level 1: Expected recovery amounts &gt;\\$1000 and &lt;=\\$2000</li>\n<li>The threshold of \\$1000 separates Level 0 from Level 1</li>\n</ul>\n<p>A key question is whether there are other factors besides Expected Recovery Amount that also varied systematically across the \\$1000 threshold. For example, does the customer age show a jump (discontinuity) at the \\$1000 threshold or does that age vary smoothly? We can examine this by first making a scatter plot of the age as a function of Expected Recovery Amount for a small window of Expected Recovery Amount, \\$0 to \\$2000. This range covers Levels 0 and 1.</p>"
  },
  {
   "metadata": {
    "dc": {
     "key": "11"
    },
    "tags": [
     "sample_code"
    ],
    "trusted": true
   },
   "cell_type": "code",
   "source": "# Scatter plot of Age vs. Expected Recovery Amount\nfrom matplotlib import pyplot as plt\n%matplotlib inline\nplt.scatter(x=df['expected_recovery_amount'], y=df['age'], c=\"g\", s=2)\nplt.xlim(0, 2000)\nplt.ylim(15, 60)\nplt.xlabel(\"Expected Recovery Amount\")\nplt.ylabel(\"Age\")\nplt.legend(loc=2)\n# ... YOUR CODE FOR TASK 2 ...",
   "execution_count": 11,
   "outputs": [
    {
     "name": "stderr",
     "output_type": "stream",
     "text": [
      "No handles with labels found to put in legend.\n"
     ]
    },
    {
     "data": {
      "text/plain": "<matplotlib.legend.Legend at 0x7ff8f890ec10>"
     },
     "execution_count": 11,
     "metadata": {},
     "output_type": "execute_result"
    },
    {
     "data": {
      "text/plain": "<Figure size 432x288 with 1 Axes>",
      "image/png": "[encoded data removed]"
     },
     "metadata": {
      "needs_background": "light"
     },
     "output_type": "display_data"
    }
   ]
  },
  {
   "metadata": {
    "dc": {
     "key": "18"
    },
    "deletable": false,
    "editable": false,
    "run_control": {
     "frozen": true
    },
    "tags": [
     "context"
    ]
   },
   "cell_type": "markdown",
   "source": "## 3. Statistical test:  age vs. expected recovery amount\n<p>We want to convince ourselves that variables such as age and sex are similar above and below the \\$1000 Expected Recovery Amount threshold. This is important because we want to be able to conclude that differences in the actual recovery amount are due to the higher Recovery Strategy and not due to some other difference like age or sex.</p>\n<p>The scatter plot of age versus Expected Recovery Amount did not show an obvious jump around \\$1000.  We will now do statistical analysis examining the average age of the customers just above and just below the threshold. We can start by exploring the range from \\$900 to \\$1100.</p>\n<p>For determining if there is a difference in the ages just above and just below the threshold, we will use the Kruskal-Wallis test, a statistical test that makes no distributional assumptions.</p>"
  },
  {
   "metadata": {
    "dc": {
     "key": "18"
    },
    "tags": [
     "sample_code"
    ],
    "trusted": true
   },
   "cell_type": "code",
   "source": "# Import stats module\nfrom scipy import stats\n\n# Compute average age just below and above the threshold\nera_900_1100 = df.loc[(df['expected_recovery_amount']<1100) & \n                      (df['expected_recovery_amount']>=900)]\nby_recovery_strategy = era_900_1100.groupby(['recovery_strategy'])\nby_recovery_strategy['age'].describe().unstack()\n\n# Perform Kruskal-Wallis test \nLevel_0_age = era_900_1100.loc[df['recovery_strategy']==\"Level 0 Recovery\"]['age']\nLevel_1_age = era_900_1100.loc[df['recovery_strategy']==\"Level 1 Recovery\"]['age']\nstats.kruskal(Level_0_age, Level_1_age) ",
   "execution_count": 5,
   "outputs": [
    {
     "data": {
      "text/plain": "KruskalResult(statistic=3.4572342749517513, pvalue=0.06297556896097407)"
     },
     "execution_count": 5,
     "metadata": {},
     "output_type": "execute_result"
    }
   ]
  },
  {
   "metadata": {
    "dc": {
     "key": "26"
    },
    "deletable": false,
    "editable": false,
    "run_control": {
     "frozen": true
    },
    "tags": [
     "context"
    ]
   },
   "cell_type": "markdown",
   "source": "## 4. Statistical test:  sex vs. expected recovery amount\n<p>We have seen that there is no major jump in the average customer age just above and just \nbelow the \\$1000 threshold by doing a statistical test as well as exploring it graphically with a scatter plot.  </p>\n<p>We want to also test that the percentage of customers that are male does not jump across the \\$1000 threshold. We can start by exploring the range of \\$900 to \\$1100 and later adjust this range.</p>\n<p>We can examine this question statistically by developing cross-tabs as well as doing chi-square tests of the percentage of customers that are male vs. female.</p>"
  },
  {
   "metadata": {
    "dc": {
     "key": "26"
    },
    "tags": [
     "sample_code"
    ],
    "collapsed": true,
    "trusted": false
   },
   "cell_type": "code",
   "source": "# Number of customers in each category\ncrosstab = pd.crosstab(df.loc[(df['...']<...) & \n                              (df['...']>=...)]['recovery_strategy'], \n                       df['sex'])\n# ... YOUR CODE FOR TASK 4 ...\n\n# Chi-square test\nchi2_stat, p_val, dof, ex = stats.chi2_contingency(...)\n# ... YOUR CODE FOR TASK 4 ...",
   "execution_count": 0,
   "outputs": []
  },
  {
   "metadata": {
    "dc": {
     "key": "33"
    },
    "deletable": false,
    "editable": false,
    "run_control": {
     "frozen": true
    },
    "tags": [
     "context"
    ]
   },
   "cell_type": "markdown",
   "source": "## 5. Exploratory graphical analysis: recovery amount\n<p>We are now reasonably confident that customers just above and just below the \\$1000 threshold are, on average, similar in their average age and the percentage that are male.  </p>\n<p>It is now time to focus on the key outcome of interest, the actual recovery amount.</p>\n<p>A first step in examining the relationship between the actual recovery amount and the expected recovery amount is to develop a scatter plot where we want to focus our attention at the range just below and just above the threshold. Specifically, we will develop a scatter plot of  Expected Recovery Amount (X) versus Actual Recovery Amount (Y) for Expected Recovery Amounts between \\$900 to \\$1100.  This range covers Levels 0 and 1.  A key question is whether or not we see a discontinuity (jump) around the \\$1000 threshold.</p>"
  },
  {
   "metadata": {
    "dc": {
     "key": "33"
    },
    "tags": [
     "sample_code"
    ],
    "collapsed": true,
    "trusted": false
   },
   "cell_type": "code",
   "source": "# Scatter plot of Actual Recovery Amount vs. Expected Recovery Amount \nplt.scatter(x=df['...'], y=df['...'], c=\"g\", s=2)\nplt.xlim(900, 1100)\nplt.ylim(0, 2000)\nplt.xlabel(\"...\")\nplt.ylabel(\"...\")\nplt.legend(loc=2)\n# ... YOUR CODE FOR TASK 5 ...",
   "execution_count": 0,
   "outputs": []
  },
  {
   "metadata": {
    "dc": {
     "key": "40"
    },
    "deletable": false,
    "editable": false,
    "run_control": {
     "frozen": true
    },
    "tags": [
     "context"
    ]
   },
   "cell_type": "markdown",
   "source": "## 6. Statistical analysis:  recovery amount\n<p>As we did with age, we can perform statistical tests to see if the actual recovery amount has a discontinuity above the \\$1000 threshold. We are going to do this for two different windows of the expected recovery amount \\$900 to \\$1100 and for a narrow range of \\$950 to \\$1050 to see if our results are consistent.</p>\n<p>Again, we will use the Kruskal-Wallis test.</p>\n<p>We will first compute the average actual recovery amount for those customers just below and just above the threshold using a range from \\$900 to \\$1100.  Then we will perform a Kruskal-Wallis test to see if the actual recovery amounts are different just above and just below the threshold.  Once we do that, we will repeat these steps for a smaller window of \\$950 to \\$1050.</p>"
  },
  {
   "metadata": {
    "dc": {
     "key": "40"
    },
    "tags": [
     "sample_code"
    ],
    "collapsed": true,
    "trusted": false
   },
   "cell_type": "code",
   "source": "# Compute average actual recovery amount just below and above the threshold\nby_recovery_strategy['actual_recovery_amount'].describe().unstack()\n\n# Perform Kruskal-Wallis test\n... = era_900_1100.loc[df['recovery_strategy']=='Level 0 Recovery']['actual_recovery_amount']\n... = era_900_1100.loc[df['recovery_strategy']=='Level 1 Recovery']['actual_recovery_amount']\nstats.kruskal(...,...) \n\n# Repeat for a smaller range of $950 to $1050\nera_950_1050 = df.loc[(df['expected_recovery_amount']<...) & \n                      (df['expected_recovery_amount']>=...)]\nLevel_0_actual = ...\nLevel_1_actual = ...\n# ... YOUR CODE FOR TASK 6 ...",
   "execution_count": 0,
   "outputs": []
  },
  {
   "metadata": {
    "dc": {
     "key": "48"
    },
    "deletable": false,
    "editable": false,
    "run_control": {
     "frozen": true
    },
    "tags": [
     "context"
    ]
   },
   "cell_type": "markdown",
   "source": "## 7. Regression modeling: no threshold\n<p>We now want to take a regression-based approach to estimate the program impact at the \\$1000 threshold using data that is just above and below the threshold. </p>\n<p>We will build two models. The first model does not have a threshold while the second will include a threshold.</p>\n<p>The first model predicts the actual recovery amount (dependent variable) as a function of the expected recovery amount (independent variable). We expect that there will be a strong positive relationship between these two variables.  </p>\n<p>We will examine the adjusted R-squared to see the percent of variance explained by the model.  In this model, we are not representing the threshold but simply seeing how the variable used for assigning the customers (expected recovery amount) relates to the outcome variable (actual recovery amount).</p>"
  },
  {
   "metadata": {
    "dc": {
     "key": "48"
    },
    "tags": [
     "sample_code"
    ],
    "collapsed": true,
    "trusted": false
   },
   "cell_type": "code",
   "source": "# Import statsmodels\nimport statsmodels.api as sm\n\n# Define X and y\nX = ...\ny = ...\nX = sm.add_constant(X)\n\n# Build linear regression model\nmodel = sm.OLS(y, X).fit()\npredictions = model.predict(X)\n\n# Print out the model summary statistics\n# ... YOUR CODE FOR TASK 7 ...",
   "execution_count": 0,
   "outputs": []
  },
  {
   "metadata": {
    "dc": {
     "key": "55"
    },
    "deletable": false,
    "editable": false,
    "run_control": {
     "frozen": true
    },
    "tags": [
     "context"
    ]
   },
   "cell_type": "markdown",
   "source": "## 8. Regression modeling: adding true threshold\n<p>From the first model, we see that the expected recovery amount's regression coefficient is statistically significant. </p>\n<p>The second model adds an indicator of the true threshold to the model (in this case at \\$1000).  </p>\n<p>We will create an indicator variable (either a 0 or a 1) that represents whether or not the expected recovery amount was greater than \\$1000. When we add the true threshold to the model, the regression coefficient for the true threshold represents the additional amount recovered due to the higher recovery strategy.  That is to say, the regression coefficient for the true threshold measures the size of the discontinuity for customers just above and just below the threshold.</p>\n<p>If the higher recovery strategy helped recovery more money, then the regression coefficient of the true threshold will be greater than zero.  If the higher recovery strategy did not help recovery more money, then the regression coefficient will not be statistically significant.</p>"
  },
  {
   "metadata": {
    "dc": {
     "key": "55"
    },
    "tags": [
     "sample_code"
    ],
    "collapsed": true,
    "trusted": false
   },
   "cell_type": "code",
   "source": "# Create indicator (0 or 1) for expected recovery amount >= $1000\ndf['indicator_1000'] = np.where(df['...']<..., 0, 1)\nera_900_1100 = df.loc[(df['expected_recovery_amount']<1100) & \n                      (df['expected_recovery_amount']>=900)]\n\n# Define X and y\nX = ...\ny = ...\nX = sm.add_constant(X)\n\n# Build linear regression model\nmodel = sm.OLS(y,X).fit()\n\n# Print the model summary\n# ... YOUR CODE FOR TASK 8 ...",
   "execution_count": 0,
   "outputs": []
  },
  {
   "metadata": {
    "dc": {
     "key": "62"
    },
    "deletable": false,
    "editable": false,
    "run_control": {
     "frozen": true
    },
    "tags": [
     "context"
    ]
   },
   "cell_type": "markdown",
   "source": "## 9. Regression modeling: adjusting the window\n<p>The regression coefficient for the true threshold was statistically significant with an estimated impact of around \\$278.  This is much larger than the \\$50 per customer needed to run this higher recovery strategy. </p>\n<p>Before showing this to our manager, we want to convince ourselves that this result wasn't due to choosing an expected recovery amount window of \\$900 to \\$1100. Let's repeat this analysis for the window from \\$950 to \\$1050 to see if we get similar results.</p>\n<p>The answer? Whether we use a wide (\\$900 to \\$1100) or narrower window (\\$950 to \\$1050), the incremental recovery amount at the higher recovery strategy is much greater than the \\$50 per customer it costs for the higher recovery strategy.  So we conclude that the higher recovery strategy is worth the extra cost of \\$50 per customer.</p>"
  },
  {
   "metadata": {
    "dc": {
     "key": "62"
    },
    "tags": [
     "sample_code"
    ],
    "collapsed": true,
    "trusted": false
   },
   "cell_type": "code",
   "source": "# Redefine era_950_1050 so the indicator variable is included\nera_950_1050 = df.loc[(df['...']<...) & \n                      (df['...']>=...)]\n\n# Define X and y \nX = ...[['expected_recovery_amount','indicator_1000']]\ny = ...['actual_recovery_amount']\nX = sm.add_constant(X)\n\n# Build linear regression model\nmodel = sm.OLS(y,X).fit()\n\n# Print the model summary\nmodel.summary()",
   "execution_count": 0,
   "outputs": []
  }
 ],
 "metadata": {
  "kernelspec": {
   "name": "python3",
   "display_name": "Python 3",
   "language": "python"
  },
  "language_info": {
   "name": "python",
   "version": "3.6.7",
   "mimetype": "text/x-python",
   "codemirror_mode": {
    "name": "ipython",
    "version": 3
   },
   "pygments_lexer": "ipython3",
   "nbconvert_exporter": "python",
   "file_extension": ".py"
  }
 },
 "nbformat": 4,
 "nbformat_minor": 2
}